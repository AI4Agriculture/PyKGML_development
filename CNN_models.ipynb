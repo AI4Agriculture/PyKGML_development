{
 "cells": [
  {
   "cell_type": "code",
   "execution_count": 33,
   "id": "19ed8734-fc96-43ac-81ef-2e51775d797d",
   "metadata": {},
   "outputs": [],
   "source": [
    "import numpy as np\n",
    "import matplotlib.pyplot as plt\n",
    "import pandas as pd\n",
    "import math\n",
    "import os\n",
    "from io import open\n",
    "import time\n",
    "import torch\n",
    "import torch.nn as nn\n",
    "import torch.nn.functional as F\n",
    "import torch.optim as optim\n",
    "from torch.optim.lr_scheduler import StepLR\n",
    "from torch.utils.data import Dataset, DataLoader\n",
    "import time"
   ]
  },
  {
   "cell_type": "code",
   "execution_count": 5,
   "id": "b80cd286-7acf-4300-a9ac-f609d0ace0dd",
   "metadata": {},
   "outputs": [],
   "source": [
    "from dataset import Step2_DataSet\n",
    "from time_series_models import GRUSeq2SeqWithAttention, TimeSeriesModel, SequenceDataset"
   ]
  },
  {
   "cell_type": "code",
   "execution_count": 2,
   "id": "493c92ce-243e-4724-b3ea-07ade13d4559",
   "metadata": {},
   "outputs": [],
   "source": [
    "os.environ[\"KMP_DUPLICATE_LIB_OK\"] = \"TRUE\""
   ]
  },
  {
   "cell_type": "code",
   "execution_count": 3,
   "id": "62172ea3-b6fa-4922-b5cf-da542a34e0bf",
   "metadata": {},
   "outputs": [],
   "source": [
    "import kgml_lib\n",
    "# define functions from kgml_lib\n",
    "Z_norm = kgml_lib.Z_norm \n",
    "Z_norm_reverse = kgml_lib.Z_norm_reverse\n",
    "# get_gpu_memory = kgml_lib.get_gpu_memory"
   ]
  },
  {
   "cell_type": "code",
   "execution_count": 6,
   "id": "55966281-6cf3-4794-913c-16898479d7a3",
   "metadata": {},
   "outputs": [
    {
     "name": "stdout",
     "output_type": "stream",
     "text": [
      "torch.Size([6570, 100, 19]) torch.Size([6570, 100, 3]) torch.Size([18, 100, 1])\n",
      "['RADN', 'TMAX_AIR', 'TDIF_AIR', 'HMAX_AIR', 'HDIF_AIR', 'WIND', 'PRECN', 'Crop_Type', 'GPP', 'Year', 'TBKDS', 'TSAND', 'TSILT', 'TFC', 'TWP', 'TKSat', 'TSOC', 'TPH', 'TCEC']\n"
     ]
    }
   ],
   "source": [
    "root_dir = 'E:/PyKGML/deposit_code_v2/'\n",
    "data_path = root_dir +  'processed_data/'\n",
    "output_path = root_dir + 'test_results/'\n",
    "\n",
    "input_data = 'recotest_data_scaled_v4_100sample.sav'\n",
    "sample_index_file = \"traindataset_split_year_v1.sav\"\n",
    "\n",
    "pretrained_model = \"recotest_v11_exp4.sav_step1\"\n",
    "output_model = \"recotest_v11_exp4_sample.sav_step2\"\n",
    "synthetic_data = \"sys_data2.sav\"\n",
    "\n",
    "dataset = Step2_DataSet(data_path, input_data, output_path, sample_index_file)\n",
    "dataset.load_step2_data()\n",
    "\n",
    "dataset.prepare_step2_data()"
   ]
  },
  {
   "cell_type": "code",
   "execution_count": 7,
   "id": "1abec30b-1c7a-47f4-932e-15f0c3d10449",
   "metadata": {},
   "outputs": [],
   "source": [
    "X = dataset.X  #[365*18, 100, 19]\n",
    "X = torch.transpose(X,1, 0) #[100, 365*18, 19]\n",
    "\n",
    "Y1 = dataset.Y1 #[365*18, 100, 3]\n",
    "Y1 = torch.transpose(Y1,1, 0) #[100, 365*18, 3]\n",
    "\n",
    "Y2 = dataset.Y2 #[18, 100, 1]\n",
    "Y2 = torch.transpose(Y2,1, 0)\n",
    "\n",
    "y_scaler = dataset.Y1_scaler"
   ]
  },
  {
   "cell_type": "code",
   "execution_count": 8,
   "id": "5986d34f-bfc8-4118-8a98-16e9dd8e7a41",
   "metadata": {},
   "outputs": [
    {
     "data": {
      "text/plain": [
       "(torch.Size([100, 6570, 19]), torch.Size([100, 6570, 3]), (3, 2))"
      ]
     },
     "execution_count": 8,
     "metadata": {},
     "output_type": "execute_result"
    }
   ],
   "source": [
    "X.shape, Y1.shape, y_scaler.shape"
   ]
  },
  {
   "cell_type": "code",
   "execution_count": 22,
   "id": "97634f21-6ec8-41a4-a4d9-33f8180b74b0",
   "metadata": {},
   "outputs": [
    {
     "data": {
      "text/plain": [
       "1800.0"
      ]
     },
     "execution_count": 22,
     "metadata": {},
     "output_type": "execute_result"
    }
   ],
   "source": [
    "6570/365*100"
   ]
  },
  {
   "cell_type": "code",
   "execution_count": 10,
   "id": "a05c1647-2243-462f-b2ba-89f69c4115a9",
   "metadata": {},
   "outputs": [],
   "source": [
    "test_size = 365*2\n",
    "X_train = X[:, :-test_size, :]\n",
    "X_test  = X[:, -test_size:, :]\n",
    "Y_train = Y1[:, :-test_size, :]\n",
    "Y_test  = Y1[:, -test_size:, :]"
   ]
  },
  {
   "cell_type": "code",
   "execution_count": 11,
   "id": "ccbb23f9-7b9f-4072-85a4-6b2df13ddda6",
   "metadata": {},
   "outputs": [
    {
     "data": {
      "text/plain": [
       "(torch.Size([100, 5840, 19]), torch.Size([100, 730, 3]))"
      ]
     },
     "execution_count": 11,
     "metadata": {},
     "output_type": "execute_result"
    }
   ],
   "source": [
    "X_train.shape, Y_test.shape"
   ]
  },
  {
   "cell_type": "code",
   "execution_count": 12,
   "id": "63fa9aee-1d93-4a67-9ee5-05616c6e80a5",
   "metadata": {},
   "outputs": [],
   "source": [
    "# Create Pytorch dataloader\n",
    "sequence_length = 365  # Use 365 consecutive days as a sample\n",
    "\n",
    "# Create Dataset objects for training and testing.\n",
    "train_dataset = SequenceDataset(X_train, Y_train, sequence_length)\n",
    "test_dataset = SequenceDataset(X_test, Y_test, sequence_length)"
   ]
  },
  {
   "cell_type": "code",
   "execution_count": 23,
   "id": "56cb0db1-aaba-4538-ac80-e3dc14a4bd0c",
   "metadata": {},
   "outputs": [
    {
     "data": {
      "text/plain": [
       "1600"
      ]
     },
     "execution_count": 23,
     "metadata": {},
     "output_type": "execute_result"
    }
   ],
   "source": [
    "len(train_dataset)"
   ]
  },
  {
   "cell_type": "code",
   "execution_count": 42,
   "id": "64ebb6e4-7b08-466d-8cd9-5d551c703092",
   "metadata": {},
   "outputs": [],
   "source": [
    "# Create DataLoaders.\n",
    "batch_size = 32\n",
    "train_loader = DataLoader(train_dataset, batch_size=batch_size, shuffle=True)\n",
    "test_loader  = DataLoader(test_dataset, batch_size=1, shuffle=False)"
   ]
  },
  {
   "cell_type": "code",
   "execution_count": 45,
   "id": "23fe907d-11f7-4ff5-ab60-03830e4e6845",
   "metadata": {},
   "outputs": [],
   "source": [
    "for batch_x, batch_y in train_loader:\n",
    "    batch_x = batch_x.permute(0, 2, 1)\n",
    "    batch_y = batch_y.permute(0, 2, 1)\n",
    "    break"
   ]
  },
  {
   "cell_type": "code",
   "execution_count": 46,
   "id": "7fcbd193-76d5-4e2f-9c32-1b3776c5f80b",
   "metadata": {},
   "outputs": [
    {
     "data": {
      "text/plain": [
       "(torch.Size([32, 19, 365]), torch.Size([32, 3, 365]))"
      ]
     },
     "execution_count": 46,
     "metadata": {},
     "output_type": "execute_result"
    }
   ],
   "source": [
    "batch_x.shape, batch_y.shape"
   ]
  },
  {
   "cell_type": "markdown",
   "id": "462249af-9cd3-48c8-a7b1-2c79a39d9582",
   "metadata": {},
   "source": [
    "### Change to another method to check if we get same shape of batch X"
   ]
  },
  {
   "cell_type": "code",
   "execution_count": 31,
   "id": "86744e77-950a-47c7-a2e8-720405734286",
   "metadata": {},
   "outputs": [
    {
     "data": {
      "text/plain": [
       "(torch.Size([1800, 365, 19]), torch.Size([1800, 365, 3]))"
      ]
     },
     "execution_count": 31,
     "metadata": {},
     "output_type": "execute_result"
    }
   ],
   "source": [
    "_X = X.reshape(100*18, 365,19)\n",
    "_Y1 = Y1.reshape(100*18, 365, 3)\n",
    "_X.shape, _Y1.shape"
   ]
  },
  {
   "cell_type": "code",
   "execution_count": 30,
   "id": "48a62315-dfad-4b4f-a62e-808ccf64209b",
   "metadata": {},
   "outputs": [
    {
     "data": {
      "text/plain": [
       "tensor([[True, True, True,  ..., True, True, True],\n",
       "        [True, True, True,  ..., True, True, True],\n",
       "        [True, True, True,  ..., True, True, True],\n",
       "        ...,\n",
       "        [True, True, True,  ..., True, True, True],\n",
       "        [True, True, True,  ..., True, True, True],\n",
       "        [True, True, True,  ..., True, True, True]])"
      ]
     },
     "execution_count": 30,
     "metadata": {},
     "output_type": "execute_result"
    }
   ],
   "source": [
    "X[1,:365,:] == _X[18,:,:]"
   ]
  },
  {
   "cell_type": "code",
   "execution_count": 34,
   "id": "1dd427b9-93af-4d60-a9d2-c627a8594069",
   "metadata": {},
   "outputs": [],
   "source": [
    "class TimeSeriesDataset(Dataset):\n",
    "    def __init__(self, inputs, outputs):\n",
    "        \"\"\"\n",
    "        inputs:  (num_samples=1800, seq_len=365, input_features=16)\n",
    "        outputs: (num_samples=1800, seq_len=365, output_features=3)\n",
    "        \"\"\"\n",
    "        self.inputs = torch.FloatTensor(inputs)  \n",
    "        self.outputs = torch.FloatTensor(outputs) \n",
    "\n",
    "    def __len__(self):\n",
    "        return len(self.inputs)\n",
    "    \n",
    "    def __getitem__(self, idx):\n",
    "        # 输入形状调整: (16, 365) -> Conv1d要求的(channels, seq_len)\n",
    "        x = self.inputs[idx].permute(1, 0)  # (16, 365)\n",
    "        y = self.outputs[idx]                # (365, 3)\n",
    "        return x, y"
   ]
  },
  {
   "cell_type": "code",
   "execution_count": 35,
   "id": "8a714921-430c-437d-86cd-5ea0deacb032",
   "metadata": {},
   "outputs": [],
   "source": [
    "# 创建数据集和DataLoader\n",
    "dataset = TimeSeriesDataset(_X, _Y1)\n",
    "train_size = int(0.8 * len(dataset))\n",
    "train_set, val_set = torch.utils.data.random_split(dataset, [train_size, len(dataset)-train_size])\n",
    "\n",
    "batch_size = 32\n",
    "train_loader = DataLoader(train_set, batch_size=batch_size, shuffle=True)\n",
    "val_loader = DataLoader(val_set, batch_size=1, shuffle=False)"
   ]
  },
  {
   "cell_type": "code",
   "execution_count": 36,
   "id": "2c5c739d-9858-4915-a0ce-b3dbf874a930",
   "metadata": {},
   "outputs": [],
   "source": [
    "for batch_x, batch_y in train_loader:\n",
    "    break"
   ]
  },
  {
   "cell_type": "code",
   "execution_count": 37,
   "id": "31ade6da-2aaf-4307-b568-038d469041c2",
   "metadata": {},
   "outputs": [
    {
     "data": {
      "text/plain": [
       "(torch.Size([32, 19, 365]), torch.Size([32, 365, 3]))"
      ]
     },
     "execution_count": 37,
     "metadata": {},
     "output_type": "execute_result"
    }
   ],
   "source": [
    "batch_x.shape, batch_y.shape"
   ]
  },
  {
   "cell_type": "markdown",
   "id": "3211e618-9e19-4e6c-ab0d-af915f687830",
   "metadata": {},
   "source": [
    "## CNN model"
   ]
  },
  {
   "cell_type": "code",
   "execution_count": 55,
   "id": "3514935f-ea04-4a4e-8f34-21892ee3b8f3",
   "metadata": {},
   "outputs": [],
   "source": [
    "# ==============================\n",
    "# 1D CNN Model, Time series regression\n",
    "# ==============================\n",
    "class TemporalCNN(nn.Module):\n",
    "    def __init__(self, input_channels=19, output_channels=3):\n",
    "        super().__init__()\n",
    "        # Assume seq_len is 365\n",
    "        self.cnn = nn.Sequential(\n",
    "            # Block 1: Output is (batch_size, 32, seq_len)\n",
    "            nn.Conv1d(input_channels, 32, kernel_size=5, padding='same'),\n",
    "            nn.BatchNorm1d(32),\n",
    "            nn.ReLU(),\n",
    "            \n",
    "            # Block 2: Output is (batch_size, 64, seq_len)\n",
    "            nn.Conv1d(32, 64, kernel_size=3, padding='same'),\n",
    "            nn.BatchNorm1d(64),\n",
    "            nn.ReLU(),\n",
    "            \n",
    "            # Block 3: Output is (batch_size, 3, seq_len)\n",
    "            nn.Conv1d(64, output_channels, kernel_size=1)\n",
    "        )\n",
    "\n",
    "    def forward(self, x):\n",
    "        # CNN requires dimmesion as: (batch, channels, seq)\n",
    "        x = x.permute(0, 2, 1)  # -> (batch, input_features, 365)\n",
    "        out = self.cnn(x)          # (batch, 3, 365)\n",
    "        return out.permute(0, 2, 1)  # change back to (batch, 365, 3)"
   ]
  },
  {
   "cell_type": "code",
   "execution_count": 68,
   "id": "91ab4dd3-bad0-4bd7-a638-1d6d5f0576a9",
   "metadata": {},
   "outputs": [],
   "source": [
    "class CNNLSTM(nn.Module):\n",
    "    def __init__(self, input_channels=19, seq_len=365, output_size=3):\n",
    "        super().__init__()\n",
    "        \n",
    "        # 1D CNN Block: Extract local time series features\n",
    "        self.cnn = nn.Sequential(\n",
    "            nn.Conv1d(input_channels, 64, kernel_size=5, padding='same'),\n",
    "            nn.BatchNorm1d(64),\n",
    "            nn.ReLU(),\n",
    "            nn.Dropout(0.2),\n",
    "            \n",
    "            nn.Conv1d(64, 128, kernel_size=3, padding='same'),\n",
    "            nn.BatchNorm1d(128),\n",
    "            nn.ReLU(),\n",
    "            nn.Dropout(0.2),\n",
    "        )\n",
    "        \n",
    "        # LSTM Block: Extract long time features\n",
    "        self.lstm = nn.LSTM(\n",
    "            input_size=128,   # input dim = CNN output channels\n",
    "            hidden_size=256,\n",
    "            num_layers=2,\n",
    "            bidirectional=True,\n",
    "            batch_first=True  # output is (batch, seq, features)\n",
    "        )\n",
    "        \n",
    "        # FC layer\n",
    "        self.fc = nn.Sequential(\n",
    "            nn.Linear(256*2, 128),  # bi-direction LSTM *2\n",
    "            nn.ReLU(),\n",
    "            nn.Dropout(0.3),\n",
    "            nn.Linear(128, output_size)\n",
    "        )\n",
    "\n",
    "    def forward(self, x):\n",
    "        # Origin x shape is: (batch_size, 365, input_features)\n",
    "        # Change shape for Conv1d: (batch, channels, seq=365)\n",
    "        x = x.permute(0, 2, 1)  # -> (batch, input_features, 365)\n",
    "        \n",
    "        # 1D CNN\n",
    "        cnn_out = self.cnn(x)  # (batch, 128, 365)\n",
    "        \n",
    "        # change shape for LSTM: (batch, seq, features)\n",
    "        lstm_input = cnn_out.permute(0, 2, 1)  # -> (batch, 365, 128)\n",
    "        \n",
    "        # LSTM\n",
    "        lstm_out, _ = self.lstm(lstm_input)  # (batch, 365, 512)  (bi-direction, hidden_size*2)\n",
    "        \n",
    "        # FC layer\n",
    "        output = self.fc(lstm_out)  # (batch, 365, 3)\n",
    "        return output"
   ]
  },
  {
   "cell_type": "code",
   "execution_count": 83,
   "id": "042d8254-c9e2-49fd-a9af-79d1e41fa3ed",
   "metadata": {},
   "outputs": [],
   "source": [
    "class CNN_LSTM_Attension(CNNLSTM):\n",
    "    def __init__(self, input_channels=19, seq_len=365, output_size=3,attn_heads=8, attn_dropout=0.1):\n",
    "        super().__init__(input_channels, seq_len, output_size)\n",
    "        # Attension block after LSTM\n",
    "        embed_size = self.lstm.hidden_size*2\n",
    "        self.attention = nn.MultiheadAttention(embed_dim=embed_size, num_heads=8)\n",
    "\n",
    "        # LayerNorm after the Attension\n",
    "        self.norm = nn.LayerNorm(embed_size)\n",
    "        # print('embed_size: ', embed_size)\n",
    "\n",
    "    def forward(self, x):\n",
    "        # Input x shape: (batch_size, 365, 16)\n",
    "        # Change shape for Conv1d: (batch, channels, seq)\n",
    "        x = x.permute(0, 2, 1)  # -> (batch, 16, 365)\n",
    "        \n",
    "        # 1D CNN\n",
    "        cnn_out = self.cnn(x)  # (batch, 128, 365)\n",
    "        \n",
    "        # Change shape for LSTM: (batch, seq, features)\n",
    "        lstm_input = cnn_out.permute(0, 2, 1)  # -> (batch, 365, 128)\n",
    "        \n",
    "        # LSTM\n",
    "        lstm_out, _ = self.lstm(lstm_input)  # (batch, 365, 512)  (bi-direction hidden_size*2)\n",
    "\n",
    "        # Attension\n",
    "        attn_out, _ = self.attention(\n",
    "            query=lstm_out,\n",
    "            key=lstm_out,\n",
    "            value=lstm_out,\n",
    "            need_weights=False\n",
    "        )\n",
    "        # print('attn_out + lstm_out: ', (attn_out + lstm_out).shape)\n",
    "        attn_out = self.norm(attn_out + lstm_out)  # Residual connection\n",
    "\n",
    "        # FC layer\n",
    "        output = self.fc(attn_out)  # (batch, 365, 3)\n",
    "        return output"
   ]
  },
  {
   "cell_type": "code",
   "execution_count": 81,
   "id": "a381418f-6eda-4f83-8118-ee08f26ec60b",
   "metadata": {},
   "outputs": [
    {
     "data": {
      "text/plain": [
       "256"
      ]
     },
     "execution_count": 81,
     "metadata": {},
     "output_type": "execute_result"
    }
   ],
   "source": [
    "model.lstm.hidden_size"
   ]
  },
  {
   "cell_type": "code",
   "execution_count": 84,
   "id": "491a4cea-1623-49cc-b05d-9886c2f97a2e",
   "metadata": {},
   "outputs": [
    {
     "name": "stdout",
     "output_type": "stream",
     "text": [
      "Epoch 1/60\n",
      "Train Loss: 0.2869 | Val Loss: 0.0796\n",
      "Epoch 2/60\n",
      "Train Loss: 0.1364 | Val Loss: 0.0654\n",
      "Epoch 3/60\n",
      "Train Loss: 0.1188 | Val Loss: 0.0564\n",
      "Epoch 4/60\n",
      "Train Loss: 0.1060 | Val Loss: 0.0603\n",
      "Epoch 5/60\n",
      "Train Loss: 0.0966 | Val Loss: 0.0538\n",
      "Epoch 6/60\n",
      "Train Loss: 0.0926 | Val Loss: 0.0502\n",
      "Epoch 7/60\n",
      "Train Loss: 0.0848 | Val Loss: 0.0433\n",
      "Epoch 8/60\n",
      "Train Loss: 0.0797 | Val Loss: 0.0442\n",
      "Epoch 9/60\n",
      "Train Loss: 0.0778 | Val Loss: 0.0505\n",
      "Epoch 10/60\n",
      "Train Loss: 0.0773 | Val Loss: 0.0383\n",
      "Epoch 11/60\n",
      "Train Loss: 0.0712 | Val Loss: 0.0389\n",
      "Epoch 12/60\n",
      "Train Loss: 0.0701 | Val Loss: 0.0412\n",
      "Epoch 13/60\n",
      "Train Loss: 0.0683 | Val Loss: 0.0434\n",
      "Epoch 14/60\n",
      "Train Loss: 0.0660 | Val Loss: 0.0368\n",
      "Epoch 15/60\n",
      "Train Loss: 0.0706 | Val Loss: 0.0454\n",
      "Epoch 16/60\n",
      "Train Loss: 0.0677 | Val Loss: 0.0373\n",
      "Epoch 17/60\n",
      "Train Loss: 0.0644 | Val Loss: 0.0463\n",
      "Epoch 18/60\n",
      "Train Loss: 0.0611 | Val Loss: 0.0387\n",
      "Epoch 19/60\n",
      "Train Loss: 0.0628 | Val Loss: 0.0412\n",
      "Epoch 20/60\n",
      "Train Loss: 0.0608 | Val Loss: 0.0422\n",
      "Epoch 21/60\n",
      "Train Loss: 0.0585 | Val Loss: 0.0346\n",
      "Epoch 22/60\n",
      "Train Loss: 0.0550 | Val Loss: 0.0363\n",
      "Epoch 23/60\n",
      "Train Loss: 0.0574 | Val Loss: 0.0416\n",
      "Epoch 24/60\n",
      "Train Loss: 0.0563 | Val Loss: 0.0346\n",
      "Epoch 25/60\n",
      "Train Loss: 0.0550 | Val Loss: 0.0342\n",
      "Epoch 26/60\n",
      "Train Loss: 0.0523 | Val Loss: 0.0368\n",
      "Epoch 27/60\n",
      "Train Loss: 0.0534 | Val Loss: 0.0361\n",
      "Epoch 28/60\n",
      "Train Loss: 0.0531 | Val Loss: 0.0335\n",
      "Epoch 29/60\n",
      "Train Loss: 0.0503 | Val Loss: 0.0352\n",
      "Epoch 30/60\n",
      "Train Loss: 0.0495 | Val Loss: 0.0321\n",
      "Epoch 31/60\n",
      "Train Loss: 0.0478 | Val Loss: 0.0271\n",
      "Epoch 32/60\n",
      "Train Loss: 0.0478 | Val Loss: 0.0336\n",
      "Epoch 33/60\n",
      "Train Loss: 0.0466 | Val Loss: 0.0308\n",
      "Epoch 34/60\n",
      "Train Loss: 0.0479 | Val Loss: 0.0288\n",
      "Epoch 35/60\n",
      "Train Loss: 0.0457 | Val Loss: 0.0309\n",
      "Epoch 36/60\n",
      "Train Loss: 0.0449 | Val Loss: 0.0301\n",
      "Epoch 37/60\n",
      "Train Loss: 0.0437 | Val Loss: 0.0340\n",
      "Epoch 38/60\n",
      "Train Loss: 0.0449 | Val Loss: 0.0334\n",
      "Epoch 39/60\n",
      "Train Loss: 0.0447 | Val Loss: 0.0429\n",
      "Epoch 40/60\n",
      "Train Loss: 0.0439 | Val Loss: 0.0295\n",
      "Epoch 41/60\n",
      "Train Loss: 0.0428 | Val Loss: 0.0314\n",
      "Epoch 42/60\n",
      "Train Loss: 0.0429 | Val Loss: 0.0289\n",
      "Epoch 43/60\n",
      "Train Loss: 0.0417 | Val Loss: 0.0306\n",
      "Epoch 44/60\n",
      "Train Loss: 0.0420 | Val Loss: 0.0279\n",
      "Epoch 45/60\n",
      "Train Loss: 0.0437 | Val Loss: 0.0272\n",
      "Epoch 46/60\n",
      "Train Loss: 0.0399 | Val Loss: 0.0265\n",
      "Epoch 47/60\n",
      "Train Loss: 0.0389 | Val Loss: 0.0257\n",
      "Epoch 48/60\n",
      "Train Loss: 0.0413 | Val Loss: 0.0314\n",
      "Epoch 49/60\n",
      "Train Loss: 0.0430 | Val Loss: 0.0296\n",
      "Epoch 50/60\n",
      "Train Loss: 0.0382 | Val Loss: 0.0275\n",
      "Epoch 51/60\n",
      "Train Loss: 0.0386 | Val Loss: 0.0252\n",
      "Epoch 52/60\n",
      "Train Loss: 0.0376 | Val Loss: 0.0327\n",
      "Epoch 53/60\n",
      "Train Loss: 0.0377 | Val Loss: 0.0300\n",
      "Epoch 54/60\n",
      "Train Loss: 0.0386 | Val Loss: 0.0282\n",
      "Epoch 55/60\n",
      "Train Loss: 0.0362 | Val Loss: 0.0285\n",
      "Epoch 56/60\n",
      "Train Loss: 0.0370 | Val Loss: 0.0288\n",
      "Epoch 57/60\n",
      "Train Loss: 0.0354 | Val Loss: 0.0278\n",
      "Epoch 58/60\n",
      "Train Loss: 0.0346 | Val Loss: 0.0256\n",
      "Epoch 59/60\n",
      "Train Loss: 0.0339 | Val Loss: 0.0246\n",
      "Epoch 60/60\n",
      "Train Loss: 0.0348 | Val Loss: 0.0246\n"
     ]
    }
   ],
   "source": [
    "# 初始化模型\n",
    "device = torch.device('cuda' if torch.cuda.is_available() else 'cpu')\n",
    "# model = TemporalCNN().to(device)\n",
    "# model = CNNLSTM().to(device)\n",
    "\n",
    "model = CNN_LSTM_Attension().to(device)\n",
    "criterion = nn.MSELoss()  # 逐时间步计算损失\n",
    "optimizer = optim.Adam(model.parameters(), lr=0.001)\n",
    "\n",
    "# 训练循环\n",
    "num_epochs = 60\n",
    "for epoch in range(num_epochs):\n",
    "    model.train()\n",
    "    train_loss = 0.0\n",
    "    \n",
    "    for batch_x, batch_y in train_loader:\n",
    "        batch_x = batch_x.to(device)  # (batch,input_features,365)\n",
    "        batch_y = batch_y.to(device)  # (batch,output_features,365)\n",
    "        \n",
    "        optimizer.zero_grad()\n",
    "        pred = model(batch_x)                    # pred: (batch,365,3)\n",
    "        loss = criterion(pred, batch_y)\n",
    "        loss.backward()\n",
    "        optimizer.step()\n",
    "        train_loss += loss.item() * batch_x.size(0)\n",
    "    \n",
    "    # 验证阶段\n",
    "    model.eval()\n",
    "    val_loss = 0.0\n",
    "    with torch.no_grad():\n",
    "        for batch_x, batch_y in test_loader:\n",
    "            batch_x = batch_x.to(device)  # (batch,input_features,365)\n",
    "            batch_y = batch_y.to(device)  # (batch,output_features,365)\n",
    "            pred = model(batch_x)\n",
    "            val_loss += criterion(pred, batch_y).item() * batch_x.size(0)\n",
    "    \n",
    "    train_loss /= len(train_loader.dataset)\n",
    "    val_loss /= len(val_loader.dataset)\n",
    "    \n",
    "    print(f'Epoch {epoch+1}/{num_epochs}')\n",
    "    print(f'Train Loss: {train_loss:.4f} | Val Loss: {val_loss:.4f}')"
   ]
  },
  {
   "cell_type": "code",
   "execution_count": null,
   "id": "e2723eae-e82b-415f-95db-819eea1f0e8b",
   "metadata": {},
   "outputs": [],
   "source": []
  }
 ],
 "metadata": {
  "kernelspec": {
   "display_name": "Python 3 (ipykernel)",
   "language": "python",
   "name": "python3"
  },
  "language_info": {
   "codemirror_mode": {
    "name": "ipython",
    "version": 3
   },
   "file_extension": ".py",
   "mimetype": "text/x-python",
   "name": "python",
   "nbconvert_exporter": "python",
   "pygments_lexer": "ipython3",
   "version": "3.12.8"
  }
 },
 "nbformat": 4,
 "nbformat_minor": 5
}
