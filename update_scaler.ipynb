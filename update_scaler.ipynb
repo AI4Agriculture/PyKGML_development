{
 "cells": [
  {
   "cell_type": "code",
   "execution_count": 1,
   "metadata": {},
   "outputs": [
    {
     "name": "stdout",
     "output_type": "stream",
     "text": [
      "torch.Size([6570, 100, 19]) torch.Size([6570, 100, 3]) torch.Size([18, 100, 1])\n",
      "['RADN', 'TMAX_AIR', 'TDIF_AIR', 'HMAX_AIR', 'HDIF_AIR', 'WIND', 'PRECN', 'Crop_Type', 'GPP', 'Year', 'TBKDS', 'TSAND', 'TSILT', 'TFC', 'TWP', 'TKSat', 'TSOC', 'TPH', 'TCEC']\n",
      "[[-1.35840237  2.58333516]\n",
      " [-0.97471869  0.85668427]\n",
      " [-0.52353591  2.99425459]] [[220.9503479  103.95001984]]\n"
     ]
    }
   ],
   "source": [
    "from dataset import CO2_synthetic_dataset \n",
    "import numpy as np\n",
    "import torch\n",
    "\n",
    "root_dir = '/Users/yufengyang/Library/CloudStorage/GoogleDrive-yang6956@umn.edu/My Drive/KGML/PyKGML/datasets/'\n",
    "data_path = root_dir +  'CO2/'\n",
    "output_path = root_dir + 'test_results/'\n",
    "\n",
    "input_data = 'recotest_data_scaled_v4_100sample.sav'\n",
    "sample_index_file = \"traindataset_split_year_v1.sav\"\n",
    "\n",
    "pretrained_model = \"recotest_v11_exp4.sav_step1\"\n",
    "output_model = \"recotest_v11_exp4_sample.sav_step2\"\n",
    "synthetic_data = \"sys_data2.sav\"\n",
    "\n",
    "dataset = CO2_synthetic_dataset(data_path, input_data, output_path, sample_index_file)\n",
    "dataset.load_step2_data()\n",
    "\n",
    "dataset.prepare_step2_data()\n",
    "\n",
    "x_scaler = dataset.X_scaler\n",
    "y1_scaler = dataset.Y1_scaler\n",
    "y2_scaler = dataset.Y2_scaler\n",
    "\n",
    "input_output_scalers = np.concatenate((x_scaler, y1_scaler), axis=0)\n",
    "print(y1_scaler, y2_scaler)\n",
    "\n",
    "input_features = ['RADN', 'TMAX_AIR', 'TDIF_AIR', 'HMAX_AIR', 'HDIF_AIR', 'WIND', 'PRECN', 'Crop_Type', 'GPP', 'Year', 'TBKDS', 'TSAND', 'TSILT', \n",
    "                  'TFC', 'TWP', 'TKSat', 'TSOC', 'TPH', 'TCEC']\n",
    "output_features = ['Ra','Rh','NEE']\n",
    "\n",
    "scalers_file = root_dir + 'processed_data/CO2/input{}_output{}_scalers.sav'.format(x_scaler.shape[0], y1_scaler.shape[0])\n",
    "\n",
    "torch.save({\n",
    "    'x_scaler': x_scaler,\n",
    "    'y1_scaler': y1_scaler,\n",
    "    'y2_scaler': y2_scaler,\n",
    "    'input_features':input_features,\n",
    "    'output_features': output_features}, scalers_file\n",
    "    )"
   ]
  },
  {
   "cell_type": "code",
   "execution_count": null,
   "metadata": {},
   "outputs": [
    {
     "name": "stdout",
     "output_type": "stream",
     "text": [
      "torch.Size([20, 6570, 19]) torch.Size([80, 6570, 19]) torch.Size([20, 6570, 3]) torch.Size([80, 6570, 3]) (3, 2)\n",
      "['Ra', 'Rh', 'NEE']\n",
      "torch.Size([1, 37230, 19]) torch.Size([1, 8030, 19]) torch.Size([1, 37230, 2]) torch.Size([1, 8030, 2]) (2, 2)\n",
      "['NEE', 'RECO']\n"
     ]
    },
    {
     "name": "stderr",
     "output_type": "stream",
     "text": [
      "/var/folders/yv/lllpcq5d7g9cxbvg8bj3tg080000gn/T/ipykernel_42682/130213717.py:12: FutureWarning: You are using `torch.load` with `weights_only=False` (the current default value), which uses the default pickle module implicitly. It is possible to construct malicious pickle data which will execute arbitrary code during unpickling (See https://github.com/pytorch/pytorch/blob/main/SECURITY.md#untrusted-models for more details). In a future release, the default value for `weights_only` will be flipped to `True`. This limits the functions that could be executed during unpickling. Arbitrary objects will no longer be allowed to be loaded via this mode unless they are explicitly allowlisted by the user via `torch.serialization.add_safe_globals`. We recommend you start setting `weights_only=True` for any use case where you don't have full control of the loaded file. Please open an issue on GitHub for any issues related to this experimental feature.\n",
      "  file = torch.load(data_co2_path + filename)\n"
     ]
    }
   ],
   "source": [
    "\n",
    "data_co2_path = root_dir +  'CO2/'\n",
    "for i, filename in enumerate(['co2_pretrain_data.sav', 'co2_finetune_data.sav']):\n",
    "    if i == 0:\n",
    "        output_features = ['Ra','Rh', 'NEE']\n",
    "        co2_y_scaler = y1_scaler\n",
    "    else:\n",
    "        output_features = ['NEE','RECO']\n",
    "        reco_scaler = torch.from_numpy(np.array([np.mean([y1_scaler[0,0], y1_scaler[1,0]]), (y1_scaler[0,1]**2 + y1_scaler[1,1]**2)**0.5]))\n",
    "        nee_scaler = torch.from_numpy(y1_scaler[2,:])\n",
    "        co2_y_scaler = torch.stack((nee_scaler, reco_scaler), dim=0)\n",
    "\n",
    "    file = torch.load(data_co2_path + filename)\n",
    "    X_train, X_test, Y_train, Y_test, y_scaler, input_features = file['X_train'], file['X_test'], file['Y_train'], file['Y_test'], file['y_scaler'], file['input_features']\n",
    "    print(X_train.shape, X_test.shape, Y_train.shape, Y_test.shape, y_scaler.shape)\n",
    "    file_out = root_dir + 'processed_data/CO2/' + filename\n",
    "    torch.save({'X_train': X_train,\n",
    "            'X_test': X_test,\n",
    "            'Y_train': Y_train,\n",
    "            'Y_test': Y_test,\n",
    "            'x_scaler': x_scaler,\n",
    "            'y_scaler': co2_y_scaler,\n",
    "            'input_features':input_features,\n",
    "            'output_features': output_features}, file_out)\n",
    "\n",
    "# data_n2o_path = root_dir +  'N2O/'\n",
    "# x_scaler = torch.load(root_dir + 'processed_data/N2O/input16_output5_scalers.sav')\n",
    "# for filename in ['n2o_pretrain_data.sav', 'n2o_finetune_augment_data.sav']:\n",
    "#     file = torch.load(data_n2o_path + filename)\n",
    "#     X_train, X_test, Y_train, Y_test, y_scaler, input_features, output_features = file['X_train'], file['X_test'], file['Y_train'], file['Y_test'], file['y_scaler'], file['input_features'], file['output_features']\n",
    "#     print(X_train.shape, X_test.shape, Y_train.shape, Y_test.shape, y_scaler.shape)\n",
    "#     file_out = root_dir + 'processed_data/N2O/' + filename\n",
    "#     torch.save({'X_train': torch.tensor(X_train),\n",
    "#             'X_test': torch.tensor(X_test),\n",
    "#             'Y_train': torch.tensor(Y_train),\n",
    "#             'Y_test': torch.tensor(Y_test),\n",
    "#             'x_scaler': torch.tensor(x_scaler),\n",
    "#             'y_scaler': torch.tensor(y_scaler),\n",
    "#             'input_features': input_features,\n",
    "#             'output_features': output_features}, file_out)"
   ]
  },
  {
   "cell_type": "code",
   "execution_count": 8,
   "metadata": {},
   "outputs": [
    {
     "name": "stderr",
     "output_type": "stream",
     "text": [
      "/var/folders/yv/lllpcq5d7g9cxbvg8bj3tg080000gn/T/ipykernel_42682/967114454.py:2: FutureWarning: You are using `torch.load` with `weights_only=False` (the current default value), which uses the default pickle module implicitly. It is possible to construct malicious pickle data which will execute arbitrary code during unpickling (See https://github.com/pytorch/pytorch/blob/main/SECURITY.md#untrusted-models for more details). In a future release, the default value for `weights_only` will be flipped to `True`. This limits the functions that could be executed during unpickling. Arbitrary objects will no longer be allowed to be loaded via this mode unless they are explicitly allowlisted by the user via `torch.serialization.add_safe_globals`. We recommend you start setting `weights_only=True` for any use case where you don't have full control of the loaded file. Please open an issue on GitHub for any issues related to this experimental feature.\n",
      "  file = torch.load(root_dir + 'processed_data/' + filename)\n"
     ]
    },
    {
     "name": "stdout",
     "output_type": "stream",
     "text": [
      "torch.Size([20, 6570, 19]) torch.Size([80, 6570, 19]) torch.Size([20, 6570, 3]) torch.Size([80, 6570, 3]) (3, 2)\n",
      "['Ra', 'Rh', 'NEE']\n",
      "torch.Size([1, 37230, 19]) torch.Size([1, 8030, 19]) torch.Size([1, 37230, 2]) torch.Size([1, 8030, 2]) torch.Size([2, 2])\n",
      "['NEE', 'RECO']\n",
      "torch.Size([1600, 6570, 16]) torch.Size([380, 6570, 16]) torch.Size([1600, 6570, 5]) torch.Size([380, 6570, 5]) torch.Size([5, 2])\n",
      "['N2O_FLUX', 'CO2_FLUX', 'WTR_3', 'NH4_3', 'NO3_3']\n",
      "torch.Size([5000, 366, 16]) torch.Size([1000, 366, 16]) torch.Size([5000, 366, 10]) torch.Size([1000, 366, 10]) torch.Size([5, 2])\n",
      "['N2O_FLUX', 'CO2_FLUX', 'WTR_3', 'NH4_3', 'NO3_3']\n"
     ]
    }
   ],
   "source": [
    "for filename in ['CO2/co2_pretrain_data.sav', 'CO2/co2_finetune_data.sav', 'N2O/n2o_pretrain_data.sav', 'N2O/n2o_finetune_augment_data.sav']:\n",
    "    file = torch.load(root_dir + 'processed_data/' + filename)\n",
    "    X_train, X_test, Y_train, Y_test, y_scaler, input_features, output_features = file['X_train'], file['X_test'], file['Y_train'], file['Y_test'], file['y_scaler'], file['input_features'], file['output_features']\n",
    "    print(X_train.shape, X_test.shape, Y_train.shape, Y_test.shape, y_scaler.shape)\n",
    "    print(file['output_features'])"
   ]
  }
 ],
 "metadata": {
  "kernelspec": {
   "display_name": "base",
   "language": "python",
   "name": "python3"
  },
  "language_info": {
   "codemirror_mode": {
    "name": "ipython",
    "version": 3
   },
   "file_extension": ".py",
   "mimetype": "text/x-python",
   "name": "python",
   "nbconvert_exporter": "python",
   "pygments_lexer": "ipython3",
   "version": "3.12.7"
  }
 },
 "nbformat": 4,
 "nbformat_minor": 2
}
